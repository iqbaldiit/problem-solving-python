{
 "cells": [
  {
   "cell_type": "code",
   "execution_count": 9,
   "metadata": {},
   "outputs": [
    {
     "name": "stdout",
     "output_type": "stream",
     "text": [
      "Diagonal sum: ->  37\n",
      "Diagonal diff: ->  1\n"
     ]
    }
   ],
   "source": [
    "# Diagonal Sum and Difference\n",
    "# input \n",
    "input=[[1,2,3]\n",
    "       ,[6,8,9]\n",
    "       ,[7,8,10]]\n",
    "'''\n",
    "    first_diagonal_sum =1+8+10=19\n",
    "    second-diagonal_sum= 3+8+7=18\n",
    "\n",
    "    expected sum= 19+18=37\n",
    "    expected difference= 1\n",
    "'''\n",
    "n=len(input)\n",
    "nPrimarySum= sum(input[i][i] for i in range(n))\n",
    "nSecondarySum=sum(input[i][n-1-i] for i in range(n))\n",
    "\n",
    "nDiagonalSum=nPrimarySum+nSecondarySum\n",
    "nDiagonalDiff=nPrimarySum-nSecondarySum\n",
    "\n",
    "print (\"Diagonal sum: -> \",nDiagonalSum)\n",
    "print (\"Diagonal diff: -> \",nDiagonalDiff)\n"
   ]
  },
  {
   "cell_type": "code",
   "execution_count": 7,
   "metadata": {},
   "outputs": [
    {
     "name": "stdout",
     "output_type": "stream",
     "text": [
      "Positive Ratios: 0.4\n",
      "Negative Ratios: 0.4\n",
      "Zero Ratios: 0.2\n"
     ]
    }
   ],
   "source": [
    "# Plus Minus\n",
    "# https://www.hackerrank.com/challenges/plus-minus/problem?isFullScreen=true\n",
    "\n",
    "# input\n",
    "arr=[1, 1, 0, -1, -2]\n",
    "\n",
    "n=len(arr)\n",
    "positive=len([x for x in arr if x>0])\n",
    "negative=len([x for x in arr if x<0])\n",
    "zeros=len([x for x in arr if x==0])\n",
    "\n",
    "print(f\"Positive Ratios: {positive / n}\") \n",
    "print(f\"Negative Ratios: {negative / n}\") \n",
    "print(f\"Zero Ratios: {zeros / n}\")\n"
   ]
  },
  {
   "cell_type": "code",
   "execution_count": 4,
   "metadata": {},
   "outputs": [
    {
     "name": "stdout",
     "output_type": "stream",
     "text": [
      "      \n",
      "     #\n",
      "    ##\n",
      "   ###\n",
      "  ####\n",
      " #####\n"
     ]
    }
   ],
   "source": [
    "#Staircase\n",
    "#https://www.hackerrank.com/challenges/staircase/problem?isFullScreen=true\n",
    "\n",
    "n=6 # input\n",
    "for i in range(1,n+1):\n",
    "    print(\" \" * (n - i) + \"#\" * i)"
   ]
  },
  {
   "cell_type": "code",
   "execution_count": 1,
   "metadata": {},
   "outputs": [
    {
     "name": "stdout",
     "output_type": "stream",
     "text": [
      "16 24\n"
     ]
    }
   ],
   "source": [
    "# Min Max sum\n",
    "# Source: https://www.hackerrank.com/challenges/mini-max-sum/problem?isFullScreen=true\n",
    "\n",
    "\n",
    "#input \n",
    "arr=[1,3,5,7,9]\n",
    "# Calculate total sum once\n",
    "total_sum = sum(arr)\n",
    "\n",
    "# Initialize min and max sum to first possible sum (totalSum - first element)\n",
    "min_sum = total_sum - arr[0]\n",
    "max_sum = min_sum\n",
    "\n",
    "# Check each possible sum by removing one number at a time\n",
    "for i in range(1, len(arr)):\n",
    "    current_sum = total_sum - arr[i]\n",
    "    min_sum = min(min_sum, current_sum)\n",
    "    max_sum = max(max_sum, current_sum)\n",
    "\n",
    "print(f\"{min_sum} {max_sum}\")"
   ]
  }
 ],
 "metadata": {
  "kernelspec": {
   "display_name": "Python 3",
   "language": "python",
   "name": "python3"
  },
  "language_info": {
   "codemirror_mode": {
    "name": "ipython",
    "version": 3
   },
   "file_extension": ".py",
   "mimetype": "text/x-python",
   "name": "python",
   "nbconvert_exporter": "python",
   "pygments_lexer": "ipython3",
   "version": "3.12.4"
  }
 },
 "nbformat": 4,
 "nbformat_minor": 2
}
