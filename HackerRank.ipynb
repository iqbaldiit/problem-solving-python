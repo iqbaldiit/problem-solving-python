{
 "cells": [
  {
   "cell_type": "code",
   "execution_count": 9,
   "metadata": {},
   "outputs": [
    {
     "name": "stdout",
     "output_type": "stream",
     "text": [
      "Diagonal sum: ->  37\n",
      "Diagonal diff: ->  1\n"
     ]
    }
   ],
   "source": [
    "# Diagonal Sum and Difference\n",
    "\n",
    "input=[[1,2,3]\n",
    "       ,[6,8,9]\n",
    "       ,[7,8,10]]\n",
    "'''\n",
    "    first_diagonal_sum =1+8+10=19\n",
    "    second-diagonal_sum= 3+8+7=18\n",
    "\n",
    "    expected sum= 19+18=37\n",
    "    expected difference= 1\n",
    "'''\n",
    "n=len(input)\n",
    "nPrimarySum= sum(input[i][i] for i in range(n))\n",
    "nSecondarySum=sum(input[i][n-1-i] for i in range(n))\n",
    "\n",
    "nDiagonalSum=nPrimarySum+nSecondarySum\n",
    "nDiagonalDiff=nPrimarySum-nSecondarySum\n",
    "\n",
    "print (\"Diagonal sum: -> \",nDiagonalSum)\n",
    "print (\"Diagonal diff: -> \",nDiagonalDiff)\n"
   ]
  }
 ],
 "metadata": {
  "kernelspec": {
   "display_name": "Python 3",
   "language": "python",
   "name": "python3"
  },
  "language_info": {
   "codemirror_mode": {
    "name": "ipython",
    "version": 3
   },
   "file_extension": ".py",
   "mimetype": "text/x-python",
   "name": "python",
   "nbconvert_exporter": "python",
   "pygments_lexer": "ipython3",
   "version": "3.12.4"
  }
 },
 "nbformat": 4,
 "nbformat_minor": 2
}
